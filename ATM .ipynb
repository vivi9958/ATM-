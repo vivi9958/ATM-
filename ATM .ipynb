{
 "cells": [
  {
   "cell_type": "code",
   "execution_count": null,
   "id": "90a51892",
   "metadata": {},
   "outputs": [
    {
     "name": "stdout",
     "output_type": "stream",
     "text": [
      "\n",
      "         Welcome To mybank ATM :)\n",
      "         \n"
     ]
    }
   ],
   "source": [
    "\n",
    "def atm_simulation():\n",
    "    \n",
    "    balance=20000 \n",
    "    \n",
    "    print('''\n",
    "         Welcome To mybank ATM :)\n",
    "         ''')\n",
    "    pin = 2345\n",
    "    pin1=int(input('Enter Your Pin: '))\n",
    "    if(pin1==pin):\n",
    "        print(\"welcome you may proceed \")\n",
    "    else:\n",
    "        print(\"sorry wrong password \")\n",
    "    \n",
    "    print('''\n",
    "            you have the folllowing options : \n",
    "            1) Check the Balance\n",
    "            2) Withdraw Amount\n",
    "            3) Deposit the Money\n",
    "            4) Exit from the ATM\n",
    "         ''')\n",
    "    \n",
    "    choose=int(input('Select Your Transaction from the above options: '))\n",
    "    \n",
    "    if choose==1:\n",
    "        print(f'Available A/C Balance Is {balance}')\n",
    "    elif choose==2:\n",
    "        withdraw=int(input('Enter the Withdrawal Amount: '))\n",
    "        if withdraw<=balance:\n",
    "            balance-=withdraw\n",
    "            print('Please collect the cash and remove the card from the machine')\n",
    "            print(f'Your availabe balance is : {balance}')\n",
    "        else:\n",
    "            print('Insufficient Balance, entered amount is greater than the available balance')\n",
    "    elif choose==3:\n",
    "        amount=int(input('Enter the Deposit Amount: '))\n",
    "        balance+=amount\n",
    "        print(f'New Balance is : {balance}')\n",
    "    elif choose==4:\n",
    "        print('Thank you for using mybank ATM,now you will be exited from the ATM Machine')\n",
    "        exit()\n",
    "    else:\n",
    "        time.sleep(10)\n",
    "        print('No Selected Transaction') # wait() 10sec sleep()\n",
    "        exit()\n",
    "    \n",
    "    return\n",
    "        \n",
    "\n",
    "        \n",
    "if __name__ == \"__main__\":\n",
    "    \n",
    "    atm_simulation()\n",
    "    \n",
    "    # this is executing the code only if the file to be run directly"
   ]
  },
  {
   "cell_type": "code",
   "execution_count": null,
   "id": "2f57f253",
   "metadata": {},
   "outputs": [],
   "source": []
  }
 ],
 "metadata": {
  "kernelspec": {
   "display_name": "Python 3 (ipykernel)",
   "language": "python",
   "name": "python3"
  },
  "language_info": {
   "codemirror_mode": {
    "name": "ipython",
    "version": 3
   },
   "file_extension": ".py",
   "mimetype": "text/x-python",
   "name": "python",
   "nbconvert_exporter": "python",
   "pygments_lexer": "ipython3",
   "version": "3.11.4"
  }
 },
 "nbformat": 4,
 "nbformat_minor": 5
}
